{
 "cells": [
  {
   "cell_type": "markdown",
   "metadata": {},
   "source": [
    "# Image Classification on the AMD Ryzen™ AI using Timm Xception Model"
   ]
  },
  {
   "cell_type": "markdown",
   "metadata": {},
   "source": [
    "This notebook provides a practical guide for harnessing the power of AMD Ryzen™ AI for image classification tasks."
   ]
  },
  {
   "cell_type": "markdown",
   "metadata": {},
   "source": [
    "- Convert the Timm Xception model to ONNX format using Optimum exporters.\n",
    "- Quantize the model with the Ryzen AI ONNX Quantizer using Imagenet 1K as the calibration dataset.\n",
    "- Run inference on a test image using the quantized model."
   ]
  },
  {
   "cell_type": "markdown",
   "metadata": {},
   "source": [
    "## Installation"
   ]
  },
  {
   "cell_type": "markdown",
   "metadata": {},
   "source": [
    "### Ryzen AI Environment setup\n",
    "A Ryzen AI environment needs to be enabled for the notebook. Please refer to Ryzen AI's [Installation](https://ryzenai.docs.amd.com/en/latest/inst.html) and [Runtime Setup](https://ryzenai.docs.amd.com/en/latest/runtime_setup.html)."
   ]
  },
  {
   "cell_type": "markdown",
   "metadata": {},
   "source": [
    "### Optimum-AMD library can be installed through pip:\n",
    "Optimum-AMD provides easy interface for loading and inference of Hugging Face models on Ryzen AI accelerator.\n",
    "\n",
    "```bash\n",
    "pip install --upgrade-strategy eager optimum[amd]\n",
    "```"
   ]
  },
  {
   "cell_type": "markdown",
   "metadata": {},
   "source": [
    "## Export the model to ONNX"
   ]
  },
  {
   "cell_type": "code",
   "execution_count": 1,
   "metadata": {},
   "outputs": [],
   "source": [
    "from pathlib import Path\n",
    "from optimum.exporters.onnx import main_export"
   ]
  },
  {
   "cell_type": "code",
   "execution_count": 2,
   "metadata": {},
   "outputs": [],
   "source": [
    "model_id = \"timm/xception65p.ra3_in1k\"\n",
    "\n",
    "onnx_dir = Path(\"demo_xception_onnx\")\n",
    "onnx_quantized_dir = Path(\"demo_xception_onnx_quantized\")"
   ]
  },
  {
   "cell_type": "code",
   "execution_count": 3,
   "metadata": {},
   "outputs": [
    {
     "name": "stderr",
     "output_type": "stream",
     "text": [
      "Framework not specified. Using pt to export the model.\n",
      "Using the export variant default. Available variants are:\n",
      "    - default: The default ONNX variant.\n",
      "Using framework PyTorch: 2.1.2+cpu\n",
      "Post-processing the exported models...\n",
      "Weight deduplication check in the ONNX export requires accelerate. Please install accelerate to run it.\n",
      "Validating ONNX model demo_xception_onnx/model.onnx...\n",
      "\t-[✓] ONNX model output names match reference model (logits)\n",
      "\t- Validating ONNX Model output \"logits\":\n",
      "\t\t-[✓] (1, 1000) matches (1, 1000)\n",
      "\t\t-[✓] all values close (atol: 0.001)\n",
      "The ONNX export succeeded and the exported model was saved at: demo_xception_onnx\n"
     ]
    }
   ],
   "source": [
    "main_export(\n",
    "    model_name_or_path=model_id,\n",
    "    output=onnx_dir,\n",
    "    task=\"image-classification\",\n",
    "    opset=13,\n",
    "    batch_size=1,\n",
    "    no_dynamic_axes=True,\n",
    ")"
   ]
  },
  {
   "cell_type": "markdown",
   "metadata": {},
   "source": [
    "## Quantize the model"
   ]
  },
  {
   "cell_type": "markdown",
   "metadata": {},
   "source": [
    "Quantization tool takes the onnx float32 model and produce a quantized model. For different hardware platforms, distinct quantization settings are required to optimize compatibility with hardware accelerators.\n",
    "\n",
    "For IPU, acceleration is achieved using QDQ quantization with uint8 activation, int8 weight types, and power of 2 scale"
   ]
  },
  {
   "cell_type": "code",
   "execution_count": 4,
   "metadata": {},
   "outputs": [],
   "source": [
    "from functools import partial\n",
    "\n",
    "import timm\n",
    "\n",
    "from transformers import PretrainedConfig\n",
    "from optimum.amd.ryzenai import RyzenAIOnnxQuantizer, AutoQuantizationConfig"
   ]
  },
  {
   "cell_type": "code",
   "execution_count": 5,
   "metadata": {},
   "outputs": [],
   "source": [
    "# Preprocess configuration and data transformations\n",
    "config = PretrainedConfig.from_pretrained(onnx_dir)\n",
    "data_config = timm.data.resolve_data_config(pretrained_cfg=config.pretrained_cfg)\n",
    "transforms = timm.data.create_transform(**data_config, is_training=False)\n",
    "\n",
    "def preprocess_fn(ex, transforms):\n",
    "    image = ex[\"image\"]\n",
    "    if image.mode == \"L\":\n",
    "        # Convert greyscale to RGB if needed\n",
    "        print(\"WARNING: converting greyscale to RGB\")\n",
    "        image = image.convert(\"RGB\")\n",
    "    pixel_values = transforms(image)\n",
    "    return {\"pixel_values\": pixel_values}"
   ]
  },
  {
   "cell_type": "code",
   "execution_count": 6,
   "metadata": {},
   "outputs": [],
   "source": [
    "# Initialize the RyzenAIOnnxQuantizer with the exported model\n",
    "quantizer = RyzenAIOnnxQuantizer.from_pretrained(onnx_dir)"
   ]
  },
  {
   "cell_type": "code",
   "execution_count": 7,
   "metadata": {},
   "outputs": [
    {
     "data": {
      "text/plain": [
       "QuantizationConfig(format=<QuantFormat.QDQ: 1>, calibration_method=<PowerOfTwoMethod.MinMSE: 1>, activations_dtype=<QuantType.QUInt8: 1>, activations_symmetric=True, weights_dtype=<QuantType.QInt8: 0>, weights_symmetric=True, enable_dpu=True)"
      ]
     },
     "execution_count": 7,
     "metadata": {},
     "output_type": "execute_result"
    }
   ],
   "source": [
    "# Load recommended quantization config for model\n",
    "quantization_config = AutoQuantizationConfig.ipu_cnn_config()\n",
    "quantization_config"
   ]
  },
  {
   "cell_type": "code",
   "execution_count": 8,
   "metadata": {},
   "outputs": [
    {
     "name": "stderr",
     "output_type": "stream",
     "text": [
      "C:\\Users\\Mohit\\anaconda3\\envs\\optimumhamdhfv101_jan19\\lib\\site-packages\\datasets\\load.py:1429: FutureWarning: The repository for imagenet-1k contains custom code which must be executed to correctly load the dataset. You can inspect the repository content at https://hf.co/datasets/imagenet-1k\n",
      "You can avoid this message in future by passing the argument `trust_remote_code=True`.\n",
      "Passing `trust_remote_code=True` will be mandatory to load this dataset from the next major release of `datasets`.\n",
      "  warnings.warn(\n"
     ]
    }
   ],
   "source": [
    "# Obtain a calibration dataset for computing quantization parameters\n",
    "train_calibration_dataset = quantizer.get_calibration_dataset(\n",
    "    \"imagenet-1k\",\n",
    "    preprocess_function=partial(preprocess_fn, transforms=transforms),\n",
    "    num_samples=100,\n",
    "    dataset_split=\"train\",\n",
    "    preprocess_batch=False,\n",
    "    streaming=True,\n",
    ")"
   ]
  },
  {
   "cell_type": "code",
   "execution_count": 9,
   "metadata": {},
   "outputs": [
    {
     "name": "stderr",
     "output_type": "stream",
     "text": [
      "Quantizing model...\n"
     ]
    },
    {
     "name": "stdout",
     "output_type": "stream",
     "text": [
      "[VAI_Q_ONNX_INFO]: Time information:\n",
      "2024-01-24 17:19:32.080446\n",
      "[VAI_Q_ONNX_INFO]: OS and CPU information:\n",
      "                                        system --- Windows\n",
      "                                          node --- LAPTOP-9LOS1RK9\n",
      "                                       release --- 10\n",
      "                                       version --- 10.0.22621\n",
      "                                       machine --- AMD64\n",
      "                                     processor --- AMD64 Family 25 Model 116 Stepping 1, AuthenticAMD\n",
      "[VAI_Q_ONNX_INFO]: Tools version information:\n",
      "                                        python --- 3.9.18\n",
      "                                          onnx --- 1.15.0\n",
      "                                   onnxruntime --- 1.15.1\n",
      "                                    vai_q_onnx --- 1.16.0+e38e0c6\n",
      "[VAI_Q_ONNX_INFO]: Quantized Configuration information:\n",
      "                                   model_input --- demo_xception_onnx/model.onnx\n",
      "                                  model_output --- demo_xception_onnx_quantized/model_quantized.onnx\n",
      "                       calibration_data_reader --- <optimum.amd.ryzenai.quantization.RyzenAICalibrationDataReader object at 0x0000023A7C089A40>\n",
      "                                  quant_format --- QDQ\n",
      "                                   input_nodes --- []\n",
      "                                  output_nodes --- []\n",
      "                          op_types_to_quantize --- []\n",
      "                random_data_reader_input_shape --- []\n",
      "                                   per_channel --- False\n",
      "                                  reduce_range --- False\n",
      "                               activation_type --- QUInt8\n",
      "                                   weight_type --- QInt8\n",
      "                             nodes_to_quantize --- []\n",
      "                              nodes_to_exclude --- []\n",
      "                                optimize_model --- True\n",
      "                      use_external_data_format --- False\n",
      "                              calibrate_method --- PowerOfTwoMethod.MinMSE\n",
      "                           execution_providers --- ['CPUExecutionProvider']\n",
      "                                    enable_dpu --- True\n",
      "                                    debug_mode --- False\n",
      "                          convert_fp16_to_fp32 --- False\n",
      "                          convert_nchw_to_nhwc --- False\n",
      "                                   include_cle --- False\n",
      "                                 extra_options --- {'WeightSymmetric': True, 'ActivationSymmetric': True}\n"
     ]
    },
    {
     "name": "stderr",
     "output_type": "stream",
     "text": [
      "INFO:vai_q_onnx.quant_utils:The input ONNX model demo_xception_onnx/model.onnx can create InferenceSession successfully\n",
      "INFO:vai_q_onnx.quantize:Removed initializers from input\n",
      "INFO:vai_q_onnx.quantize:Loading model...\n",
      "INFO:vai_q_onnx.quantize:enable_dpu is True, optimize the model for better hardware compatibility.\n",
      "INFO:vai_q_onnx.optimize:Found BatchNormalization node /blocks/blocks.1/norm/BatchNormalization. Replacing with Conv.\n",
      "INFO:vai_q_onnx.optimize:Found BatchNormalization node /blocks/blocks.2/norm/BatchNormalization. Replacing with Conv.\n",
      "INFO:vai_q_onnx.optimize:Found BatchNormalization node /blocks/blocks.3/norm/BatchNormalization. Replacing with Conv.\n",
      "INFO:vai_q_onnx.optimize:Found BatchNormalization node /blocks/blocks.4/norm/BatchNormalization. Replacing with Conv.\n",
      "INFO:vai_q_onnx.optimize:Found BatchNormalization node /blocks/blocks.5/norm/BatchNormalization. Replacing with Conv.\n",
      "INFO:vai_q_onnx.optimize:Found BatchNormalization node /blocks/blocks.6/norm/BatchNormalization. Replacing with Conv.\n",
      "INFO:vai_q_onnx.optimize:Found BatchNormalization node /blocks/blocks.7/norm/BatchNormalization. Replacing with Conv.\n",
      "INFO:vai_q_onnx.optimize:Found BatchNormalization node /blocks/blocks.8/norm/BatchNormalization. Replacing with Conv.\n",
      "INFO:vai_q_onnx.optimize:Found BatchNormalization node /blocks/blocks.9/norm/BatchNormalization. Replacing with Conv.\n",
      "INFO:vai_q_onnx.optimize:Found BatchNormalization node /blocks/blocks.10/norm/BatchNormalization. Replacing with Conv.\n",
      "INFO:vai_q_onnx.optimize:Found BatchNormalization node /blocks/blocks.11/norm/BatchNormalization. Replacing with Conv.\n",
      "INFO:vai_q_onnx.optimize:Found BatchNormalization node /blocks/blocks.12/norm/BatchNormalization. Replacing with Conv.\n",
      "INFO:vai_q_onnx.optimize:Found BatchNormalization node /blocks/blocks.13/norm/BatchNormalization. Replacing with Conv.\n",
      "INFO:vai_q_onnx.optimize:Found BatchNormalization node /blocks/blocks.14/norm/BatchNormalization. Replacing with Conv.\n",
      "INFO:vai_q_onnx.optimize:Found BatchNormalization node /blocks/blocks.15/norm/BatchNormalization. Replacing with Conv.\n",
      "INFO:vai_q_onnx.optimize:Found BatchNormalization node /blocks/blocks.16/norm/BatchNormalization. Replacing with Conv.\n",
      "INFO:vai_q_onnx.optimize:Found BatchNormalization node /blocks/blocks.17/norm/BatchNormalization. Replacing with Conv.\n",
      "INFO:vai_q_onnx.optimize:Found BatchNormalization node /blocks/blocks.18/norm/BatchNormalization. Replacing with Conv.\n",
      "INFO:vai_q_onnx.optimize:Found BatchNormalization node /blocks/blocks.19/norm/BatchNormalization. Replacing with Conv.\n",
      "INFO:vai_q_onnx.optimize:Found BatchNormalization node /blocks/blocks.20/norm/BatchNormalization. Replacing with Conv.\n",
      "INFO:vai_q_onnx.quantize:Start calibration...\n",
      "INFO:vai_q_onnx.quantize:Start collecting data, runtime depends on your model size and the number of calibration dataset.\n",
      "INFO:vai_q_onnx.calibrate:Finding optimal threshold for each tensor using PowerOfTwoMethod.MinMSE algorithm ...\n",
      "INFO:vai_q_onnx.calibrate:Use all calibration data to calculate min mse\n",
      "Computing range: 100%|█████████████████████████████████████████████████████████████████████████████████████████████████████████████████████| 241/241 [08:35<00:00,  2.14s/tensor]\n",
      "INFO:vai_q_onnx.qdq_quantizer:Remove QuantizeLinear & DequantizeLinear on certain operations(such as conv-relu).\n",
      "INFO:vai_q_onnx.simulate_dpu:Rescale GlobalAveragePool /head/global_pool/pool/GlobalAveragePool with factor 1.0009765625 to simulate DPU behavior.\n",
      "INFO:vai_q_onnx.refine:Input pos of pooling layer /head/global_pool/pool/GlobalAveragePool is 3. Output pos of pooling layer /head/global_pool/pool/GlobalAveragePool is 6.Modify opos from 6 to 3.\n"
     ]
    },
    {
     "data": {
      "text/html": [
       "<pre style=\"white-space:pre;overflow-x:auto;line-height:normal;font-family:Menlo,'DejaVu Sans Mono',consolas,'Courier New',monospace\">┏━━━━━━━━━━━━━━━━━━━━━━┳━━━━━━━━━━━━━━━━━━━━━━━━━━━━━━━━━━━━━━━━━━━━━━━━━━━┓\n",
       "┃<span style=\"font-weight: bold\"> Op Type              </span>┃<span style=\"font-weight: bold\"> Float Model                                       </span>┃\n",
       "┡━━━━━━━━━━━━━━━━━━━━━━╇━━━━━━━━━━━━━━━━━━━━━━━━━━━━━━━━━━━━━━━━━━━━━━━━━━━┩\n",
       "│ Conv                 │<span style=\"color: #00ff00; text-decoration-color: #00ff00; font-weight: bold\"> 132                                               </span>│\n",
       "│ Relu                 │<span style=\"color: #00ff00; text-decoration-color: #00ff00; font-weight: bold\"> 65                                                </span>│\n",
       "│ Add                  │<span style=\"color: #00ff00; text-decoration-color: #00ff00; font-weight: bold\"> 20                                                </span>│\n",
       "│ BatchNormalization   │<span style=\"color: #00ff00; text-decoration-color: #00ff00; font-weight: bold\"> 20                                                </span>│\n",
       "│ GlobalAveragePool    │<span style=\"color: #00ff00; text-decoration-color: #00ff00; font-weight: bold\"> 1                                                 </span>│\n",
       "│ Flatten              │<span style=\"color: #00ff00; text-decoration-color: #00ff00; font-weight: bold\"> 1                                                 </span>│\n",
       "│ Gemm                 │<span style=\"color: #00ff00; text-decoration-color: #00ff00; font-weight: bold\"> 1                                                 </span>│\n",
       "├──────────────────────┼───────────────────────────────────────────────────┤\n",
       "│ Quantized model path │<span style=\"color: #00ff00; text-decoration-color: #00ff00; font-weight: bold\"> demo_xception_onnx_quantized/model_quantized.onnx </span>│\n",
       "└──────────────────────┴───────────────────────────────────────────────────┘\n",
       "</pre>\n"
      ],
      "text/plain": [
       "┏━━━━━━━━━━━━━━━━━━━━━━┳━━━━━━━━━━━━━━━━━━━━━━━━━━━━━━━━━━━━━━━━━━━━━━━━━━━┓\n",
       "┃\u001b[1m \u001b[0m\u001b[1mOp Type             \u001b[0m\u001b[1m \u001b[0m┃\u001b[1m \u001b[0m\u001b[1mFloat Model                                      \u001b[0m\u001b[1m \u001b[0m┃\n",
       "┡━━━━━━━━━━━━━━━━━━━━━━╇━━━━━━━━━━━━━━━━━━━━━━━━━━━━━━━━━━━━━━━━━━━━━━━━━━━┩\n",
       "│ Conv                 │\u001b[1;38;5;46m \u001b[0m\u001b[1;38;5;46m132                                              \u001b[0m\u001b[1;38;5;46m \u001b[0m│\n",
       "│ Relu                 │\u001b[1;38;5;46m \u001b[0m\u001b[1;38;5;46m65                                               \u001b[0m\u001b[1;38;5;46m \u001b[0m│\n",
       "│ Add                  │\u001b[1;38;5;46m \u001b[0m\u001b[1;38;5;46m20                                               \u001b[0m\u001b[1;38;5;46m \u001b[0m│\n",
       "│ BatchNormalization   │\u001b[1;38;5;46m \u001b[0m\u001b[1;38;5;46m20                                               \u001b[0m\u001b[1;38;5;46m \u001b[0m│\n",
       "│ GlobalAveragePool    │\u001b[1;38;5;46m \u001b[0m\u001b[1;38;5;46m1                                                \u001b[0m\u001b[1;38;5;46m \u001b[0m│\n",
       "│ Flatten              │\u001b[1;38;5;46m \u001b[0m\u001b[1;38;5;46m1                                                \u001b[0m\u001b[1;38;5;46m \u001b[0m│\n",
       "│ Gemm                 │\u001b[1;38;5;46m \u001b[0m\u001b[1;38;5;46m1                                                \u001b[0m\u001b[1;38;5;46m \u001b[0m│\n",
       "├──────────────────────┼───────────────────────────────────────────────────┤\n",
       "│ Quantized model path │\u001b[1;38;5;46m \u001b[0m\u001b[1;38;5;46mdemo_xception_onnx_quantized/model_quantized.onnx\u001b[0m\u001b[1;38;5;46m \u001b[0m│\n",
       "└──────────────────────┴───────────────────────────────────────────────────┘\n"
      ]
     },
     "metadata": {},
     "output_type": "display_data"
    },
    {
     "name": "stderr",
     "output_type": "stream",
     "text": [
      "Saved quantized model at: demo_xception_onnx_quantized\n",
      "Configuration saved in demo_xception_onnx_quantized\\ryzenai_config.json\n"
     ]
    },
    {
     "data": {
      "text/plain": [
       "WindowsPath('demo_xception_onnx_quantized')"
      ]
     },
     "execution_count": 9,
     "metadata": {},
     "output_type": "execute_result"
    }
   ],
   "source": [
    "# Run the quantizer with the specified configuration and calibration data\n",
    "quantizer.quantize(\n",
    "    quantization_config=quantization_config,\n",
    "    dataset=train_calibration_dataset,\n",
    "    save_dir=onnx_quantized_dir\n",
    ")"
   ]
  },
  {
   "cell_type": "markdown",
   "metadata": {},
   "source": [
    "## Run inference using the quantized model"
   ]
  },
  {
   "cell_type": "code",
   "execution_count": 10,
   "metadata": {},
   "outputs": [],
   "source": [
    "import torch\n",
    "from PIL import Image\n",
    "import requests\n",
    "from optimum.amd.ryzenai import RyzenAIModelForImageClassification\n",
    "from datasets import load_dataset\n",
    "\n",
    "model = RyzenAIModelForImageClassification.from_pretrained(onnx_quantized_dir, vaip_config=\"vaip_config.json\")"
   ]
  },
  {
   "cell_type": "code",
   "execution_count": 11,
   "metadata": {},
   "outputs": [
    {
     "data": {
      "image/jpeg": "[encoded data removed]",
      "image/png": "[encoded data removed]",
      "text/plain": [
       "<PIL.JpegImagePlugin.JpegImageFile image mode=RGB size=250x166>"
      ]
     },
     "execution_count": 11,
     "metadata": {},
     "output_type": "execute_result"
    }
   ],
   "source": [
    "url = \"https://datasets-server.huggingface.co/assets/imagenet-1k/--/014711311cec8b5959350c373878a3311caeb764/--/default/test/37/image/image.jpg\"\n",
    "image = Image.open(requests.get(url, stream=True).raw)\n",
    "image"
   ]
  },
  {
   "cell_type": "code",
   "execution_count": 12,
   "metadata": {},
   "outputs": [],
   "source": [
    "output = model(transforms(image).unsqueeze(0)).logits\n",
    "top5_probabilities, top5_class_indices = torch.topk(torch.softmax(output, dim=1) * 100, k=5)"
   ]
  },
  {
   "cell_type": "code",
   "execution_count": 13,
   "metadata": {},
   "outputs": [
    {
     "name": "stdout",
     "output_type": "stream",
     "text": [
      "Top 1 Class: cheetah, chetah, Acinonyx jubatus, Probability: 71.55%\n",
      "Top 2 Class: leopard, Panthera pardus, Probability: 2.30%\n",
      "Top 3 Class: jaguar, panther, Panthera onca, Felis onca, Probability: 0.96%\n",
      "Top 4 Class: gazelle, Probability: 0.18%\n",
      "Top 5 Class: lion, king of beasts, Panthera leo, Probability: 0.15%\n"
     ]
    }
   ],
   "source": [
    "test_dataset = load_dataset(\"imagenet-1k\", split=\"test\", streaming=True, trust_remote_code=True)\n",
    "labels = test_dataset.features['label'].names\n",
    "for i in range(len(top5_class_indices[0])):\n",
    "    index = top5_class_indices[0][i]\n",
    "    probability = top5_probabilities[0][i]\n",
    "    class_label = labels[index]\n",
    "    print(f\"Top {i+1} Class: {class_label}, Probability: {probability:.2f}%\")"
   ]
  }
 ],
 "metadata": {
  "kernelspec": {
   "display_name": "Python 3 (ipykernel)",
   "language": "python",
   "name": "python3"
  },
  "language_info": {
   "codemirror_mode": {
    "name": "ipython",
    "version": 3
   },
   "file_extension": ".py",
   "mimetype": "text/x-python",
   "name": "python",
   "nbconvert_exporter": "python",
   "pygments_lexer": "ipython3",
   "version": "3.9.18"
  }
 },
 "nbformat": 4,
 "nbformat_minor": 4
}
